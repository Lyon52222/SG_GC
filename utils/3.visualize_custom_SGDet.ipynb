{
 "cells": [
  {
   "cell_type": "code",
   "execution_count": 15,
   "metadata": {},
   "outputs": [],
   "source": [
    "import torch\n",
    "import json\n",
    "\n",
    "import random\n",
    "import numpy as np\n",
    "from matplotlib.pyplot import imshow\n",
    "from PIL import Image, ImageDraw"
   ]
  },
  {
   "cell_type": "code",
   "execution_count": 16,
   "metadata": {},
   "outputs": [],
   "source": [
    "# load the following to files from DETECTED_SGG_DIR\n",
    "custom_prediction = json.load(open('../data/custom_prediction.json'))\n",
    "custom_data_info = json.load(open('../data/custom_data_info.json'))"
   ]
  },
  {
   "cell_type": "code",
   "execution_count": 26,
   "metadata": {},
   "outputs": [],
   "source": [
    "# parameters\n",
    "image_idx = 0\n",
    "box_topk = 5 # select top k bounding boxes\n",
    "rel_topk = 10 # select top k relationships\n",
    "ind_to_classes = custom_data_info['ind_to_classes']\n",
    "ind_to_predicates = custom_data_info['ind_to_predicates']"
   ]
  },
  {
   "cell_type": "code",
   "execution_count": 22,
   "metadata": {},
   "outputs": [
    {
     "output_type": "stream",
     "name": "stdout",
     "text": [
      "light\n"
     ]
    }
   ],
   "source": [
    "print(ind_to_classes[76])"
   ]
  },
  {
   "cell_type": "code",
   "execution_count": 23,
   "metadata": {},
   "outputs": [
    {
     "output_type": "stream",
     "name": "stdout",
     "text": [
      "has\n"
     ]
    }
   ],
   "source": [
    "print(ind_to_predicates[20])"
   ]
  },
  {
   "cell_type": "code",
   "execution_count": 28,
   "metadata": {
    "scrolled": false
   },
   "outputs": [
    {
     "output_type": "stream",
     "name": "stdout",
     "text": [
      "[76, 76, 76, 76, 76]\n['3_light => has => 2_light', '3_light => has => 0_light', '3_light => has => 1_light', '4_light => in => 3_light', '3_light => has => 4_light', '2_light => in => 3_light', '0_light => in => 3_light', '4_light => has => 0_light', '1_light => in => 3_light', '4_light => has => 1_light']\n['3_light => has => 2_light', '3_light => has => 0_light', '3_light => has => 1_light', '4_light => in => 3_light', '3_light => has => 4_light', '2_light => in => 3_light', '0_light => in => 3_light', '4_light => has => 0_light', '1_light => in => 3_light', '4_light => has => 1_light']\n['3_light => has => 2_light', '3_light => has => 0_light', '3_light => has => 1_light', '4_light => in => 3_light', '3_light => has => 4_light', '2_light => in => 3_light', '0_light => in => 3_light', '4_light => has => 0_light', '1_light => in => 3_light', '4_light => has => 1_light']\n['3_light => has => 2_light', '3_light => has => 0_light', '3_light => has => 1_light', '4_light => in => 3_light', '3_light => has => 4_light', '2_light => in => 3_light', '0_light => in => 3_light', '4_light => has => 0_light', '1_light => in => 3_light', '4_light => has => 1_light']\n['3_light => has => 2_light', '3_light => has => 0_light', '3_light => has => 1_light', '4_light => in => 3_light', '3_light => has => 4_light', '2_light => in => 3_light', '0_light => in => 3_light', '4_light => has => 0_light', '1_light => in => 3_light', '4_light => has => 1_light']\n['3_light => has => 2_light', '3_light => has => 0_light', '3_light => has => 1_light', '4_light => in => 3_light', '3_light => has => 4_light', '2_light => in => 3_light', '0_light => in => 3_light', '4_light => has => 0_light', '1_light => in => 3_light', '4_light => has => 1_light']\n['3_light => has => 2_light', '3_light => has => 0_light', '3_light => has => 1_light', '4_light => in => 3_light', '3_light => has => 4_light', '2_light => in => 3_light', '0_light => in => 3_light', '4_light => has => 0_light', '1_light => in => 3_light', '4_light => has => 1_light']\n['3_light => has => 2_light', '3_light => has => 0_light', '3_light => has => 1_light', '4_light => in => 3_light', '3_light => has => 4_light', '2_light => in => 3_light', '0_light => in => 3_light', '4_light => has => 0_light', '1_light => in => 3_light', '4_light => has => 1_light']\n['3_light => has => 2_light', '3_light => has => 0_light', '3_light => has => 1_light', '4_light => in => 3_light', '3_light => has => 4_light', '2_light => in => 3_light', '0_light => in => 3_light', '4_light => has => 0_light', '1_light => in => 3_light', '4_light => has => 1_light']\n['3_light => has => 2_light', '3_light => has => 0_light', '3_light => has => 1_light', '4_light => in => 3_light', '3_light => has => 4_light', '2_light => in => 3_light', '0_light => in => 3_light', '4_light => has => 0_light', '1_light => in => 3_light', '4_light => has => 1_light']\n"
     ]
    }
   ],
   "source": [
    "image_idx = 2\n",
    "image_path = custom_data_info['idx_to_files'][image_idx]\n",
    "boxes = custom_prediction[str(image_idx)]['bbox'][:box_topk]\n",
    "box_labels = custom_prediction[str(image_idx)]['bbox_labels'][:box_topk]\n",
    "box_scores = custom_prediction[str(image_idx)]['bbox_scores'][:box_topk]\n",
    "all_rel_labels = custom_prediction[str(image_idx)]['rel_labels']\n",
    "all_rel_scores = custom_prediction[str(image_idx)]['rel_scores']\n",
    "all_rel_pairs = custom_prediction[str(image_idx)]['rel_pairs']\n",
    "\n",
    "print(box_labels)\n",
    "for i in range(len(box_labels)):\n",
    "    box_labels[i] = ind_to_classes[box_labels[i]]\n",
    "\n",
    "rel_labels = []\n",
    "rel_scores = []\n",
    "for i in range(len(all_rel_pairs)):\n",
    "    if all_rel_pairs[i][0] < box_topk and all_rel_pairs[i][1] < box_topk:\n",
    "        rel_scores.append(all_rel_scores[i])\n",
    "        label = str(all_rel_pairs[i][0]) + '_' + box_labels[all_rel_pairs[i][0]] + ' => ' + ind_to_predicates[all_rel_labels[i]] + ' => ' + str(all_rel_pairs[i][1]) + '_' + box_labels[all_rel_pairs[i][1]]\n",
    "        rel_labels.append(label)\n",
    "\n",
    "rel_labels = rel_labels[:rel_topk]\n",
    "rel_scores = rel_scores[:rel_topk]\n",
    "for i in range(len(rel_labels)):\n",
    "    print(rel_labels)"
   ]
  },
  {
   "cell_type": "code",
   "execution_count": null,
   "metadata": {},
   "outputs": [],
   "source": []
  },
  {
   "cell_type": "code",
   "execution_count": null,
   "metadata": {},
   "outputs": [],
   "source": []
  }
 ],
 "metadata": {
  "kernelspec": {
   "display_name": "Python 3",
   "language": "python",
   "name": "python3"
  },
  "language_info": {
   "codemirror_mode": {
    "name": "ipython",
    "version": 3
   },
   "file_extension": ".py",
   "mimetype": "text/x-python",
   "name": "python",
   "nbconvert_exporter": "python",
   "pygments_lexer": "ipython3",
   "version": "3.8.5-final"
  }
 },
 "nbformat": 4,
 "nbformat_minor": 2
}